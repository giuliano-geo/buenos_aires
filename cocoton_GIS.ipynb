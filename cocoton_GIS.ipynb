{
 "cells": [
  {
   "cell_type": "code",
   "execution_count": 39,
   "id": "295d21ff-a436-4b68-a5d4-0ca12da81fe1",
   "metadata": {},
   "outputs": [],
   "source": [
    "import pandas as pd\n",
    "import matplotlib.pyplot as plt\n",
    "import numpy as np\n",
    "from pathlib import Path\n",
    "import geopandas as gpd"
   ]
  },
  {
   "cell_type": "code",
   "execution_count": 2,
   "id": "88aac628-ddc3-4e43-ae2d-59556075629f",
   "metadata": {},
   "outputs": [
    {
     "data": {
      "text/plain": [
       "'/home/jupyter-giuliano.camillett-3f926/buenos_aires'"
      ]
     },
     "execution_count": 2,
     "metadata": {},
     "output_type": "execute_result"
    }
   ],
   "source": [
    "pwd"
   ]
  },
  {
   "cell_type": "markdown",
   "id": "e37e5597-d8ca-400b-bc63-551cde02ec62",
   "metadata": {},
   "source": [
    "# descripcion inicial del dataset\n",
    "Este proyecto va a trabajar con un dataset de temperaturas minimas y maximas durante 365dias de todas las estaciones pertenecientes al Servicio Meteorologico Nacional Argentino. \n",
    "El objetivo es limpiar el dataset para quedarnos con 5 estaciones que generan un \"perfil\" desde zonas menos a mas urbanizadas."
   ]
  },
  {
   "cell_type": "code",
   "execution_count": 3,
   "id": "9f68b47a-b464-4209-9455-a6c9ec843755",
   "metadata": {},
   "outputs": [],
   "source": [
    "# Importo los datos de temperatura\n",
    "data_folder = Path(\".\") \n",
    "dataset_temperatura = pd.read_csv (data_folder / 'temperatura365d_todo.csv', sep= \";\")"
   ]
  },
  {
   "cell_type": "code",
   "execution_count": 4,
   "id": "2a51abf8-95b5-411c-815e-ff0d3a70fccc",
   "metadata": {},
   "outputs": [
    {
     "data": {
      "text/html": [
       "<div>\n",
       "<style scoped>\n",
       "    .dataframe tbody tr th:only-of-type {\n",
       "        vertical-align: middle;\n",
       "    }\n",
       "\n",
       "    .dataframe tbody tr th {\n",
       "        vertical-align: top;\n",
       "    }\n",
       "\n",
       "    .dataframe thead th {\n",
       "        text-align: right;\n",
       "    }\n",
       "</style>\n",
       "<table border=\"1\" class=\"dataframe\">\n",
       "  <thead>\n",
       "    <tr style=\"text-align: right;\">\n",
       "      <th></th>\n",
       "      <th>FECHA</th>\n",
       "      <th>TMAX</th>\n",
       "      <th>TMIN</th>\n",
       "      <th>NOMBRE</th>\n",
       "    </tr>\n",
       "  </thead>\n",
       "  <tbody>\n",
       "    <tr>\n",
       "      <th>0</th>\n",
       "      <td>NaN</td>\n",
       "      <td>NaN</td>\n",
       "      <td>NaN</td>\n",
       "      <td>NaN</td>\n",
       "    </tr>\n",
       "    <tr>\n",
       "      <th>1</th>\n",
       "      <td>15032023.0</td>\n",
       "      <td>30.6</td>\n",
       "      <td>24.5</td>\n",
       "      <td>AEROPARQUE AERO</td>\n",
       "    </tr>\n",
       "    <tr>\n",
       "      <th>2</th>\n",
       "      <td>15032023.0</td>\n",
       "      <td>28.5</td>\n",
       "      <td>19.9</td>\n",
       "      <td>AZUL AERO</td>\n",
       "    </tr>\n",
       "    <tr>\n",
       "      <th>3</th>\n",
       "      <td>15032023.0</td>\n",
       "      <td>32.3</td>\n",
       "      <td>21.2</td>\n",
       "      <td>BAHIA BLANCA AERO</td>\n",
       "    </tr>\n",
       "    <tr>\n",
       "      <th>4</th>\n",
       "      <td>15032023.0</td>\n",
       "      <td>19.4</td>\n",
       "      <td>11.5</td>\n",
       "      <td>BARILOCHE AERO</td>\n",
       "    </tr>\n",
       "  </tbody>\n",
       "</table>\n",
       "</div>"
      ],
      "text/plain": [
       "        FECHA  TMAX  TMIN             NOMBRE\n",
       "0         NaN   NaN   NaN                NaN\n",
       "1  15032023.0  30.6  24.5    AEROPARQUE AERO\n",
       "2  15032023.0  28.5  19.9          AZUL AERO\n",
       "3  15032023.0  32.3  21.2  BAHIA BLANCA AERO\n",
       "4  15032023.0  19.4  11.5     BARILOCHE AERO"
      ]
     },
     "execution_count": 4,
     "metadata": {},
     "output_type": "execute_result"
    }
   ],
   "source": [
    "dataset_temperatura.head()"
   ]
  },
  {
   "cell_type": "markdown",
   "id": "1e097739-1e21-4d2a-ae2a-ddbd1b803ec6",
   "metadata": {},
   "source": [
    "A primera vista se observa que la columna fecha no esta en un formato aceptable, y que hay datos NaN, por lo que es necesario realizar algunos cambios en la columna fecha.\n",
    "Es necesario:\n",
    "1- eliminar la terminacion \".0\"\n",
    "2- no sabemos si las fechas que comienzan en dias de 1 digito digamos 9 de marzo de 2023 estan escritas como 09/03/2023 o 9/03/2023, es necesario corregir esto o estar seguro de que vamos a tener siempre 8 digitos en la fecha para una posterior conversion"
   ]
  },
  {
   "cell_type": "code",
   "execution_count": 5,
   "id": "6ca00ea6-eb4c-4cec-a503-835243e9815c",
   "metadata": {},
   "outputs": [],
   "source": [
    "# Para poder elimiar una parte de un dato, pandas sugiere trabajar con str, por lo que transformamos la columna FECHA en str\n",
    "dataset_temperatura[\"FECHA\"]= dataset_temperatura[\"FECHA\"].astype(str)"
   ]
  },
  {
   "cell_type": "code",
   "execution_count": 6,
   "id": "3c5363ec-d3c3-48c6-b7b4-dda2ce407a03",
   "metadata": {},
   "outputs": [],
   "source": [
    "# luego tomamos todos los datos de temperatura y les eliminamos los ultimos 2 digitos \n",
    "dataset_temperatura[\"FECHA\"] = dataset_temperatura[\"FECHA\"].str.slice(stop=-2)"
   ]
  },
  {
   "cell_type": "code",
   "execution_count": 7,
   "id": "acfc83a9-f5bd-4bfc-be56-35a85e2e8a96",
   "metadata": {},
   "outputs": [],
   "source": [
    "# para evitar posibles errores de formato, se utiliza zfill(), este codigo lo que hace es agregar 0 al inicio del dato\n",
    "# hasta llegar a lenght= 8, en el caso de que el dato ya tenga 8 digitos, no hace nada.. el objetivo de esto es \n",
    "# que en el caso que existan fechas escritas como 9032023, la va a convertir a 09032023, y asi evitar futuros errores\n",
    "dataset_temperatura[\"FECHA\"] = dataset_temperatura[\"FECHA\"].str.zfill(8)"
   ]
  },
  {
   "cell_type": "code",
   "execution_count": 8,
   "id": "9d5a675a-5640-40f9-9dea-6ef2300e3b82",
   "metadata": {},
   "outputs": [
    {
     "data": {
      "text/html": [
       "<div>\n",
       "<style scoped>\n",
       "    .dataframe tbody tr th:only-of-type {\n",
       "        vertical-align: middle;\n",
       "    }\n",
       "\n",
       "    .dataframe tbody tr th {\n",
       "        vertical-align: top;\n",
       "    }\n",
       "\n",
       "    .dataframe thead th {\n",
       "        text-align: right;\n",
       "    }\n",
       "</style>\n",
       "<table border=\"1\" class=\"dataframe\">\n",
       "  <thead>\n",
       "    <tr style=\"text-align: right;\">\n",
       "      <th></th>\n",
       "      <th>FECHA</th>\n",
       "      <th>TMAX</th>\n",
       "      <th>TMIN</th>\n",
       "      <th>NOMBRE</th>\n",
       "    </tr>\n",
       "  </thead>\n",
       "  <tbody>\n",
       "    <tr>\n",
       "      <th>0</th>\n",
       "      <td>0000000n</td>\n",
       "      <td>NaN</td>\n",
       "      <td>NaN</td>\n",
       "      <td>NaN</td>\n",
       "    </tr>\n",
       "    <tr>\n",
       "      <th>1</th>\n",
       "      <td>15032023</td>\n",
       "      <td>30.6</td>\n",
       "      <td>24.5</td>\n",
       "      <td>AEROPARQUE AERO</td>\n",
       "    </tr>\n",
       "    <tr>\n",
       "      <th>2</th>\n",
       "      <td>15032023</td>\n",
       "      <td>28.5</td>\n",
       "      <td>19.9</td>\n",
       "      <td>AZUL AERO</td>\n",
       "    </tr>\n",
       "    <tr>\n",
       "      <th>3</th>\n",
       "      <td>15032023</td>\n",
       "      <td>32.3</td>\n",
       "      <td>21.2</td>\n",
       "      <td>BAHIA BLANCA AERO</td>\n",
       "    </tr>\n",
       "    <tr>\n",
       "      <th>4</th>\n",
       "      <td>15032023</td>\n",
       "      <td>19.4</td>\n",
       "      <td>11.5</td>\n",
       "      <td>BARILOCHE AERO</td>\n",
       "    </tr>\n",
       "    <tr>\n",
       "      <th>...</th>\n",
       "      <td>...</td>\n",
       "      <td>...</td>\n",
       "      <td>...</td>\n",
       "      <td>...</td>\n",
       "    </tr>\n",
       "    <tr>\n",
       "      <th>44352</th>\n",
       "      <td>16032022</td>\n",
       "      <td>35.7</td>\n",
       "      <td>14.3</td>\n",
       "      <td>VIEDMA AERO</td>\n",
       "    </tr>\n",
       "    <tr>\n",
       "      <th>44353</th>\n",
       "      <td>16032022</td>\n",
       "      <td>31.7</td>\n",
       "      <td>14.3</td>\n",
       "      <td>VILLA DE MARIA DEL RIO SECO</td>\n",
       "    </tr>\n",
       "    <tr>\n",
       "      <th>44354</th>\n",
       "      <td>16032022</td>\n",
       "      <td>34.3</td>\n",
       "      <td>19.2</td>\n",
       "      <td>VILLA DOLORES AERO</td>\n",
       "    </tr>\n",
       "    <tr>\n",
       "      <th>44355</th>\n",
       "      <td>16032022</td>\n",
       "      <td>30.3</td>\n",
       "      <td>10.4</td>\n",
       "      <td>VILLA GESELL AERO</td>\n",
       "    </tr>\n",
       "    <tr>\n",
       "      <th>44356</th>\n",
       "      <td>16032022</td>\n",
       "      <td>36.2</td>\n",
       "      <td>9.6</td>\n",
       "      <td>VILLA REYNOLDS AERO</td>\n",
       "    </tr>\n",
       "  </tbody>\n",
       "</table>\n",
       "<p>44357 rows × 4 columns</p>\n",
       "</div>"
      ],
      "text/plain": [
       "          FECHA  TMAX  TMIN                       NOMBRE\n",
       "0      0000000n   NaN   NaN                          NaN\n",
       "1      15032023  30.6  24.5              AEROPARQUE AERO\n",
       "2      15032023  28.5  19.9                    AZUL AERO\n",
       "3      15032023  32.3  21.2            BAHIA BLANCA AERO\n",
       "4      15032023  19.4  11.5               BARILOCHE AERO\n",
       "...         ...   ...   ...                          ...\n",
       "44352  16032022  35.7  14.3                  VIEDMA AERO\n",
       "44353  16032022  31.7  14.3  VILLA DE MARIA DEL RIO SECO\n",
       "44354  16032022  34.3  19.2           VILLA DOLORES AERO\n",
       "44355  16032022  30.3  10.4            VILLA GESELL AERO\n",
       "44356  16032022  36.2   9.6          VILLA REYNOLDS AERO\n",
       "\n",
       "[44357 rows x 4 columns]"
      ]
     },
     "execution_count": 8,
     "metadata": {},
     "output_type": "execute_result"
    }
   ],
   "source": [
    "dataset_temperatura"
   ]
  },
  {
   "cell_type": "markdown",
   "id": "776ccfdf-ebf4-4342-aabe-817a062997fd",
   "metadata": {},
   "source": [
    "Ahora el dataset tiene un formato mas aceptable, con todos los datos en la columna FECHA, normalizados. El siguiente paso es limpiar la base de datos, ya que se ve a simple vista que hay datos NaNs"
   ]
  },
  {
   "cell_type": "code",
   "execution_count": 9,
   "id": "7cfef74b-5639-43fd-bb34-99a2122d1e8c",
   "metadata": {},
   "outputs": [
    {
     "data": {
      "text/html": [
       "<div>\n",
       "<style scoped>\n",
       "    .dataframe tbody tr th:only-of-type {\n",
       "        vertical-align: middle;\n",
       "    }\n",
       "\n",
       "    .dataframe tbody tr th {\n",
       "        vertical-align: top;\n",
       "    }\n",
       "\n",
       "    .dataframe thead th {\n",
       "        text-align: right;\n",
       "    }\n",
       "</style>\n",
       "<table border=\"1\" class=\"dataframe\">\n",
       "  <thead>\n",
       "    <tr style=\"text-align: right;\">\n",
       "      <th></th>\n",
       "      <th>FECHA</th>\n",
       "      <th>TMAX</th>\n",
       "      <th>TMIN</th>\n",
       "      <th>NOMBRE</th>\n",
       "    </tr>\n",
       "  </thead>\n",
       "  <tbody>\n",
       "    <tr>\n",
       "      <th>0</th>\n",
       "      <td>False</td>\n",
       "      <td>True</td>\n",
       "      <td>True</td>\n",
       "      <td>True</td>\n",
       "    </tr>\n",
       "    <tr>\n",
       "      <th>1</th>\n",
       "      <td>False</td>\n",
       "      <td>False</td>\n",
       "      <td>False</td>\n",
       "      <td>False</td>\n",
       "    </tr>\n",
       "    <tr>\n",
       "      <th>2</th>\n",
       "      <td>False</td>\n",
       "      <td>False</td>\n",
       "      <td>False</td>\n",
       "      <td>False</td>\n",
       "    </tr>\n",
       "    <tr>\n",
       "      <th>3</th>\n",
       "      <td>False</td>\n",
       "      <td>False</td>\n",
       "      <td>False</td>\n",
       "      <td>False</td>\n",
       "    </tr>\n",
       "    <tr>\n",
       "      <th>4</th>\n",
       "      <td>False</td>\n",
       "      <td>False</td>\n",
       "      <td>False</td>\n",
       "      <td>False</td>\n",
       "    </tr>\n",
       "    <tr>\n",
       "      <th>...</th>\n",
       "      <td>...</td>\n",
       "      <td>...</td>\n",
       "      <td>...</td>\n",
       "      <td>...</td>\n",
       "    </tr>\n",
       "    <tr>\n",
       "      <th>44352</th>\n",
       "      <td>False</td>\n",
       "      <td>False</td>\n",
       "      <td>False</td>\n",
       "      <td>False</td>\n",
       "    </tr>\n",
       "    <tr>\n",
       "      <th>44353</th>\n",
       "      <td>False</td>\n",
       "      <td>False</td>\n",
       "      <td>False</td>\n",
       "      <td>False</td>\n",
       "    </tr>\n",
       "    <tr>\n",
       "      <th>44354</th>\n",
       "      <td>False</td>\n",
       "      <td>False</td>\n",
       "      <td>False</td>\n",
       "      <td>False</td>\n",
       "    </tr>\n",
       "    <tr>\n",
       "      <th>44355</th>\n",
       "      <td>False</td>\n",
       "      <td>False</td>\n",
       "      <td>False</td>\n",
       "      <td>False</td>\n",
       "    </tr>\n",
       "    <tr>\n",
       "      <th>44356</th>\n",
       "      <td>False</td>\n",
       "      <td>False</td>\n",
       "      <td>False</td>\n",
       "      <td>False</td>\n",
       "    </tr>\n",
       "  </tbody>\n",
       "</table>\n",
       "<p>44357 rows × 4 columns</p>\n",
       "</div>"
      ],
      "text/plain": [
       "       FECHA   TMAX   TMIN  NOMBRE\n",
       "0      False   True   True    True\n",
       "1      False  False  False   False\n",
       "2      False  False  False   False\n",
       "3      False  False  False   False\n",
       "4      False  False  False   False\n",
       "...      ...    ...    ...     ...\n",
       "44352  False  False  False   False\n",
       "44353  False  False  False   False\n",
       "44354  False  False  False   False\n",
       "44355  False  False  False   False\n",
       "44356  False  False  False   False\n",
       "\n",
       "[44357 rows x 4 columns]"
      ]
     },
     "execution_count": 9,
     "metadata": {},
     "output_type": "execute_result"
    }
   ],
   "source": [
    "# buscamos si hay datos null\n",
    "dataset_temperatura.isnull()"
   ]
  },
  {
   "cell_type": "code",
   "execution_count": 10,
   "id": "b48b2b33-4bc8-47d3-b6c7-6987c0bb1b21",
   "metadata": {},
   "outputs": [],
   "source": [
    "# eliminamos los datos null\n",
    "dataset_temperatura = dataset_temperatura.dropna()"
   ]
  },
  {
   "cell_type": "code",
   "execution_count": 11,
   "id": "a54a098d-60de-4bea-9c45-20fd21714b36",
   "metadata": {},
   "outputs": [
    {
     "data": {
      "text/html": [
       "<div>\n",
       "<style scoped>\n",
       "    .dataframe tbody tr th:only-of-type {\n",
       "        vertical-align: middle;\n",
       "    }\n",
       "\n",
       "    .dataframe tbody tr th {\n",
       "        vertical-align: top;\n",
       "    }\n",
       "\n",
       "    .dataframe thead th {\n",
       "        text-align: right;\n",
       "    }\n",
       "</style>\n",
       "<table border=\"1\" class=\"dataframe\">\n",
       "  <thead>\n",
       "    <tr style=\"text-align: right;\">\n",
       "      <th></th>\n",
       "      <th>FECHA</th>\n",
       "      <th>TMAX</th>\n",
       "      <th>TMIN</th>\n",
       "      <th>NOMBRE</th>\n",
       "    </tr>\n",
       "  </thead>\n",
       "  <tbody>\n",
       "  </tbody>\n",
       "</table>\n",
       "</div>"
      ],
      "text/plain": [
       "Empty DataFrame\n",
       "Columns: [FECHA, TMAX, TMIN, NOMBRE]\n",
       "Index: []"
      ]
     },
     "execution_count": 11,
     "metadata": {},
     "output_type": "execute_result"
    }
   ],
   "source": [
    "#buscamos datos duplicados\n",
    "dataset_temperatura[dataset_temperatura.duplicated()]"
   ]
  },
  {
   "cell_type": "code",
   "execution_count": 12,
   "id": "c3e9fcf3-6987-4176-ad8b-11861232eeac",
   "metadata": {},
   "outputs": [
    {
     "data": {
      "text/plain": [
       "(42165, 4)"
      ]
     },
     "execution_count": 12,
     "metadata": {},
     "output_type": "execute_result"
    }
   ],
   "source": [
    "dataset_temperatura.shape"
   ]
  },
  {
   "cell_type": "markdown",
   "id": "f708ac8a-be39-4855-8607-f356c9a68449",
   "metadata": {},
   "source": [
    "Se han eliminado mas de 2000 filas que tenian datos NaN.\n",
    "El siguiente paso es tranformar el dato en la columna FECHA en formato Fecha"
   ]
  },
  {
   "cell_type": "code",
   "execution_count": 13,
   "id": "a226f60b-db18-4556-b341-959f27bb4fce",
   "metadata": {},
   "outputs": [
    {
     "name": "stderr",
     "output_type": "stream",
     "text": [
      "/tmp/ipykernel_856132/1840762363.py:3: SettingWithCopyWarning: \n",
      "A value is trying to be set on a copy of a slice from a DataFrame.\n",
      "Try using .loc[row_indexer,col_indexer] = value instead\n",
      "\n",
      "See the caveats in the documentation: https://pandas.pydata.org/pandas-docs/stable/user_guide/indexing.html#returning-a-view-versus-a-copy\n",
      "  dataset_temperatura[\"FECHA\"]= pd.to_datetime(dataset_temperatura[\"FECHA\"], format='%d%m%Y')\n"
     ]
    }
   ],
   "source": [
    "# redefinimos la columna FECHA asignandole un formato, en este caso le decimos que los 2 primeros digitos son dia\n",
    "# los digitos 3-4 son el mes y los ultimos 4 son el año \n",
    "dataset_temperatura[\"FECHA\"]= pd.to_datetime(dataset_temperatura[\"FECHA\"], format='%d%m%Y')"
   ]
  },
  {
   "cell_type": "code",
   "execution_count": 14,
   "id": "4e35b3c6-ad75-4120-b9b2-492eee6e6ff0",
   "metadata": {},
   "outputs": [
    {
     "data": {
      "text/html": [
       "<div>\n",
       "<style scoped>\n",
       "    .dataframe tbody tr th:only-of-type {\n",
       "        vertical-align: middle;\n",
       "    }\n",
       "\n",
       "    .dataframe tbody tr th {\n",
       "        vertical-align: top;\n",
       "    }\n",
       "\n",
       "    .dataframe thead th {\n",
       "        text-align: right;\n",
       "    }\n",
       "</style>\n",
       "<table border=\"1\" class=\"dataframe\">\n",
       "  <thead>\n",
       "    <tr style=\"text-align: right;\">\n",
       "      <th></th>\n",
       "      <th>FECHA</th>\n",
       "      <th>TMAX</th>\n",
       "      <th>TMIN</th>\n",
       "      <th>NOMBRE</th>\n",
       "    </tr>\n",
       "  </thead>\n",
       "  <tbody>\n",
       "    <tr>\n",
       "      <th>1</th>\n",
       "      <td>2023-03-15</td>\n",
       "      <td>30.6</td>\n",
       "      <td>24.5</td>\n",
       "      <td>AEROPARQUE AERO</td>\n",
       "    </tr>\n",
       "    <tr>\n",
       "      <th>2</th>\n",
       "      <td>2023-03-15</td>\n",
       "      <td>28.5</td>\n",
       "      <td>19.9</td>\n",
       "      <td>AZUL AERO</td>\n",
       "    </tr>\n",
       "    <tr>\n",
       "      <th>3</th>\n",
       "      <td>2023-03-15</td>\n",
       "      <td>32.3</td>\n",
       "      <td>21.2</td>\n",
       "      <td>BAHIA BLANCA AERO</td>\n",
       "    </tr>\n",
       "    <tr>\n",
       "      <th>4</th>\n",
       "      <td>2023-03-15</td>\n",
       "      <td>19.4</td>\n",
       "      <td>11.5</td>\n",
       "      <td>BARILOCHE AERO</td>\n",
       "    </tr>\n",
       "    <tr>\n",
       "      <th>5</th>\n",
       "      <td>2023-03-15</td>\n",
       "      <td>-6.0</td>\n",
       "      <td>-13.7</td>\n",
       "      <td>BASE BELGRANO II</td>\n",
       "    </tr>\n",
       "    <tr>\n",
       "      <th>...</th>\n",
       "      <td>...</td>\n",
       "      <td>...</td>\n",
       "      <td>...</td>\n",
       "      <td>...</td>\n",
       "    </tr>\n",
       "    <tr>\n",
       "      <th>44352</th>\n",
       "      <td>2022-03-16</td>\n",
       "      <td>35.7</td>\n",
       "      <td>14.3</td>\n",
       "      <td>VIEDMA AERO</td>\n",
       "    </tr>\n",
       "    <tr>\n",
       "      <th>44353</th>\n",
       "      <td>2022-03-16</td>\n",
       "      <td>31.7</td>\n",
       "      <td>14.3</td>\n",
       "      <td>VILLA DE MARIA DEL RIO SECO</td>\n",
       "    </tr>\n",
       "    <tr>\n",
       "      <th>44354</th>\n",
       "      <td>2022-03-16</td>\n",
       "      <td>34.3</td>\n",
       "      <td>19.2</td>\n",
       "      <td>VILLA DOLORES AERO</td>\n",
       "    </tr>\n",
       "    <tr>\n",
       "      <th>44355</th>\n",
       "      <td>2022-03-16</td>\n",
       "      <td>30.3</td>\n",
       "      <td>10.4</td>\n",
       "      <td>VILLA GESELL AERO</td>\n",
       "    </tr>\n",
       "    <tr>\n",
       "      <th>44356</th>\n",
       "      <td>2022-03-16</td>\n",
       "      <td>36.2</td>\n",
       "      <td>9.6</td>\n",
       "      <td>VILLA REYNOLDS AERO</td>\n",
       "    </tr>\n",
       "  </tbody>\n",
       "</table>\n",
       "<p>42165 rows × 4 columns</p>\n",
       "</div>"
      ],
      "text/plain": [
       "           FECHA  TMAX  TMIN                       NOMBRE\n",
       "1     2023-03-15  30.6  24.5              AEROPARQUE AERO\n",
       "2     2023-03-15  28.5  19.9                    AZUL AERO\n",
       "3     2023-03-15  32.3  21.2            BAHIA BLANCA AERO\n",
       "4     2023-03-15  19.4  11.5               BARILOCHE AERO\n",
       "5     2023-03-15  -6.0 -13.7             BASE BELGRANO II\n",
       "...          ...   ...   ...                          ...\n",
       "44352 2022-03-16  35.7  14.3                  VIEDMA AERO\n",
       "44353 2022-03-16  31.7  14.3  VILLA DE MARIA DEL RIO SECO\n",
       "44354 2022-03-16  34.3  19.2           VILLA DOLORES AERO\n",
       "44355 2022-03-16  30.3  10.4            VILLA GESELL AERO\n",
       "44356 2022-03-16  36.2   9.6          VILLA REYNOLDS AERO\n",
       "\n",
       "[42165 rows x 4 columns]"
      ]
     },
     "execution_count": 14,
     "metadata": {},
     "output_type": "execute_result"
    }
   ],
   "source": [
    "# el codigo tira un error, pero luego cuando inscpeccionamos el dataset, vemos que la columna fecha fue formateada con exito\n",
    "dataset_temperatura"
   ]
  },
  {
   "cell_type": "markdown",
   "id": "46c140a8-f010-40ef-844c-56fac2133099",
   "metadata": {},
   "source": [
    "AEROPARQUE AERO\n",
    "BUENOS AIRES\n",
    "EL PALOMAR AERO\n",
    "MORON AERO\n",
    "MERLO AERO\n",
    "NUEVE DE JULIO"
   ]
  },
  {
   "cell_type": "code",
   "execution_count": 15,
   "id": "d39efe91-58fa-40a8-a0d9-f83c751e5b51",
   "metadata": {},
   "outputs": [],
   "source": [
    "#, dataset_temperatura['NOMBRE']== 'BUENOS AIRES'\n",
    "#                     , dataset_temperatura['NOMBRE']== 'EL PALOMAR AERO'\n",
    " #                    , dataset_temperatura['NOMBRE']== 'MORON AERO'\n",
    " #                    , dataset_temperatura['NOMBRE']== 'MERLO AERO'\n",
    "  #                   , dataset_temperatura['NOMBRE']== 'NUEVE DE JULIO')"
   ]
  },
  {
   "cell_type": "code",
   "execution_count": 29,
   "id": "d1714c6d-a300-44f7-8386-b3715fe46a92",
   "metadata": {},
   "outputs": [],
   "source": [
    "filtro_aeroparque = dataset_temperatura['NOMBRE']== 'AEROPARQUE AERO' \n",
    "filtro_palomar = dataset_temperatura['NOMBRE']== 'EL PALOMAR AERO'\n",
    "filtro_moron = dataset_temperatura['NOMBRE']== 'MORON AERO'\n",
    "filtro_9_julio = dataset_temperatura['NOMBRE']== 'NUEVE DE JULIO'\n"
   ]
  },
  {
   "cell_type": "code",
   "execution_count": 35,
   "id": "ecd24960-c9eb-4d19-ae54-79d9e058dbdc",
   "metadata": {},
   "outputs": [],
   "source": [
    "estaciones_target = (filtro_aeroparque + filtro_palomar + filtro_buenos_aires + filtro_merlo + filtro_moron\n",
    "                + filtro_9_julio)"
   ]
  },
  {
   "cell_type": "code",
   "execution_count": 61,
   "id": "20c781ec-8629-450b-ba9c-f05e2bbcd7c2",
   "metadata": {},
   "outputs": [],
   "source": [
    "estaciones = dataset_temperatura[estaciones_target]"
   ]
  },
  {
   "cell_type": "code",
   "execution_count": 62,
   "id": "ba7e3c24-0e8a-4b08-996a-d650c2d29924",
   "metadata": {},
   "outputs": [
    {
     "data": {
      "text/html": [
       "<div>\n",
       "<style scoped>\n",
       "    .dataframe tbody tr th:only-of-type {\n",
       "        vertical-align: middle;\n",
       "    }\n",
       "\n",
       "    .dataframe tbody tr th {\n",
       "        vertical-align: top;\n",
       "    }\n",
       "\n",
       "    .dataframe thead th {\n",
       "        text-align: right;\n",
       "    }\n",
       "</style>\n",
       "<table border=\"1\" class=\"dataframe\">\n",
       "  <thead>\n",
       "    <tr style=\"text-align: right;\">\n",
       "      <th></th>\n",
       "      <th>FECHA</th>\n",
       "      <th>TMAX</th>\n",
       "      <th>TMIN</th>\n",
       "      <th>NOMBRE</th>\n",
       "    </tr>\n",
       "  </thead>\n",
       "  <tbody>\n",
       "    <tr>\n",
       "      <th>1</th>\n",
       "      <td>2023-03-15</td>\n",
       "      <td>30.6</td>\n",
       "      <td>24.5</td>\n",
       "      <td>AEROPARQUE AERO</td>\n",
       "    </tr>\n",
       "    <tr>\n",
       "      <th>33</th>\n",
       "      <td>2023-03-15</td>\n",
       "      <td>30.8</td>\n",
       "      <td>24.2</td>\n",
       "      <td>EL PALOMAR AERO</td>\n",
       "    </tr>\n",
       "    <tr>\n",
       "      <th>64</th>\n",
       "      <td>2023-03-15</td>\n",
       "      <td>31.4</td>\n",
       "      <td>25.9</td>\n",
       "      <td>MORON AERO</td>\n",
       "    </tr>\n",
       "    <tr>\n",
       "      <th>66</th>\n",
       "      <td>2023-03-15</td>\n",
       "      <td>32.6</td>\n",
       "      <td>21.8</td>\n",
       "      <td>NUEVE DE JULIO</td>\n",
       "    </tr>\n",
       "    <tr>\n",
       "      <th>123</th>\n",
       "      <td>2023-03-14</td>\n",
       "      <td>35.1</td>\n",
       "      <td>27.4</td>\n",
       "      <td>AEROPARQUE AERO</td>\n",
       "    </tr>\n",
       "    <tr>\n",
       "      <th>...</th>\n",
       "      <td>...</td>\n",
       "      <td>...</td>\n",
       "      <td>...</td>\n",
       "      <td>...</td>\n",
       "    </tr>\n",
       "    <tr>\n",
       "      <th>44179</th>\n",
       "      <td>2022-03-17</td>\n",
       "      <td>30.8</td>\n",
       "      <td>15.6</td>\n",
       "      <td>NUEVE DE JULIO</td>\n",
       "    </tr>\n",
       "    <tr>\n",
       "      <th>44235</th>\n",
       "      <td>2022-03-16</td>\n",
       "      <td>27.6</td>\n",
       "      <td>19.8</td>\n",
       "      <td>AEROPARQUE AERO</td>\n",
       "    </tr>\n",
       "    <tr>\n",
       "      <th>44267</th>\n",
       "      <td>2022-03-16</td>\n",
       "      <td>28.9</td>\n",
       "      <td>15.0</td>\n",
       "      <td>EL PALOMAR AERO</td>\n",
       "    </tr>\n",
       "    <tr>\n",
       "      <th>44299</th>\n",
       "      <td>2022-03-16</td>\n",
       "      <td>28.8</td>\n",
       "      <td>19.5</td>\n",
       "      <td>MORON AERO</td>\n",
       "    </tr>\n",
       "    <tr>\n",
       "      <th>44301</th>\n",
       "      <td>2022-03-16</td>\n",
       "      <td>30.1</td>\n",
       "      <td>18.1</td>\n",
       "      <td>NUEVE DE JULIO</td>\n",
       "    </tr>\n",
       "  </tbody>\n",
       "</table>\n",
       "<p>1460 rows × 4 columns</p>\n",
       "</div>"
      ],
      "text/plain": [
       "           FECHA  TMAX  TMIN           NOMBRE\n",
       "1     2023-03-15  30.6  24.5  AEROPARQUE AERO\n",
       "33    2023-03-15  30.8  24.2  EL PALOMAR AERO\n",
       "64    2023-03-15  31.4  25.9       MORON AERO\n",
       "66    2023-03-15  32.6  21.8   NUEVE DE JULIO\n",
       "123   2023-03-14  35.1  27.4  AEROPARQUE AERO\n",
       "...          ...   ...   ...              ...\n",
       "44179 2022-03-17  30.8  15.6   NUEVE DE JULIO\n",
       "44235 2022-03-16  27.6  19.8  AEROPARQUE AERO\n",
       "44267 2022-03-16  28.9  15.0  EL PALOMAR AERO\n",
       "44299 2022-03-16  28.8  19.5       MORON AERO\n",
       "44301 2022-03-16  30.1  18.1   NUEVE DE JULIO\n",
       "\n",
       "[1460 rows x 4 columns]"
      ]
     },
     "execution_count": 62,
     "metadata": {},
     "output_type": "execute_result"
    }
   ],
   "source": [
    "estaciones"
   ]
  },
  {
   "cell_type": "code",
   "execution_count": 60,
   "id": "9cfefff0-90fd-4834-a63d-3930fde9e9f2",
   "metadata": {},
   "outputs": [
    {
     "data": {
      "text/html": [
       "<div>\n",
       "<style scoped>\n",
       "    .dataframe tbody tr th:only-of-type {\n",
       "        vertical-align: middle;\n",
       "    }\n",
       "\n",
       "    .dataframe tbody tr th {\n",
       "        vertical-align: top;\n",
       "    }\n",
       "\n",
       "    .dataframe thead th {\n",
       "        text-align: right;\n",
       "    }\n",
       "</style>\n",
       "<table border=\"1\" class=\"dataframe\">\n",
       "  <thead>\n",
       "    <tr style=\"text-align: right;\">\n",
       "      <th></th>\n",
       "      <th>TMAX</th>\n",
       "      <th>TMIN</th>\n",
       "    </tr>\n",
       "  </thead>\n",
       "  <tbody>\n",
       "    <tr>\n",
       "      <th>count</th>\n",
       "      <td>1.0</td>\n",
       "      <td>1.0</td>\n",
       "    </tr>\n",
       "    <tr>\n",
       "      <th>mean</th>\n",
       "      <td>16.5</td>\n",
       "      <td>12.0</td>\n",
       "    </tr>\n",
       "    <tr>\n",
       "      <th>std</th>\n",
       "      <td>NaN</td>\n",
       "      <td>NaN</td>\n",
       "    </tr>\n",
       "    <tr>\n",
       "      <th>min</th>\n",
       "      <td>16.5</td>\n",
       "      <td>12.0</td>\n",
       "    </tr>\n",
       "    <tr>\n",
       "      <th>25%</th>\n",
       "      <td>16.5</td>\n",
       "      <td>12.0</td>\n",
       "    </tr>\n",
       "    <tr>\n",
       "      <th>50%</th>\n",
       "      <td>16.5</td>\n",
       "      <td>12.0</td>\n",
       "    </tr>\n",
       "    <tr>\n",
       "      <th>75%</th>\n",
       "      <td>16.5</td>\n",
       "      <td>12.0</td>\n",
       "    </tr>\n",
       "    <tr>\n",
       "      <th>max</th>\n",
       "      <td>16.5</td>\n",
       "      <td>12.0</td>\n",
       "    </tr>\n",
       "  </tbody>\n",
       "</table>\n",
       "</div>"
      ],
      "text/plain": [
       "       TMAX  TMIN\n",
       "count   1.0   1.0\n",
       "mean   16.5  12.0\n",
       "std     NaN   NaN\n",
       "min    16.5  12.0\n",
       "25%    16.5  12.0\n",
       "50%    16.5  12.0\n",
       "75%    16.5  12.0\n",
       "max    16.5  12.0"
      ]
     },
     "execution_count": 60,
     "metadata": {},
     "output_type": "execute_result"
    }
   ],
   "source": [
    "dataset_temperatura[filtro_merlo].describe()"
   ]
  },
  {
   "cell_type": "code",
   "execution_count": 51,
   "id": "bddf73a7-86a2-47f4-b7b6-65c88a123171",
   "metadata": {},
   "outputs": [
    {
     "data": {
      "image/png": "[encoded data removed]",
      "text/plain": [
       "<Figure size 432x288 with 1 Axes>"
      ]
     },
     "metadata": {
      "needs_background": "light"
     },
     "output_type": "display_data"
    }
   ],
   "source": [
    "plt.plot (dataset_temperatura[filtro_aeroparque].FECHA , dataset_temperatura[filtro_aeroparque].TMAX, linestyle=\"-\", \n",
    "          color = 'red', label= \"Temp. Max\")\n",
    "plt.plot (dataset_temperatura[filtro_aeroparque].FECHA , dataset_temperatura[filtro_aeroparque].TMIN, linestyle=\"-\", \n",
    "          color = 'blue', label= \"Temp. Min\")\n",
    "plt.legend()\n",
    "plt.ylabel('Temperatura [°C]')\n",
    "plt.xlabel('Dia')\n",
    "plt.title('Estacion Aeroparque')\n",
    "plt.show()"
   ]
  },
  {
   "cell_type": "code",
   "execution_count": 50,
   "id": "4452a385-6860-4d3a-bf19-21ec5ff24250",
   "metadata": {},
   "outputs": [
    {
     "data": {
      "text/plain": [
       "[<matplotlib.lines.Line2D at 0x7fc28f74d5a0>]"
      ]
     },
     "execution_count": 50,
     "metadata": {},
     "output_type": "execute_result"
    },
    {
     "data": {
      "image/png": "[encoded data removed]",
      "text/plain": [
       "<Figure size 432x288 with 1 Axes>"
      ]
     },
     "metadata": {
      "needs_background": "light"
     },
     "output_type": "display_data"
    }
   ],
   "source": [
    "plt.plot (dataset_temperatura[filtro_9_julio].FECHA , dataset_temperatura[filtro_9_julio].TMAX, linestyle=\"-\", \n",
    "          color = 'red', label= \"Temp. Max\")\n",
    "plt.plot (dataset_temperatura[filtro_9_julio].FECHA , dataset_temperatura[filtro_9_julio].TMIN, linestyle=\"-\", \n",
    "          color = 'blue', label= \"Temp. Min\")"
   ]
  },
  {
   "cell_type": "code",
   "execution_count": 40,
   "id": "9e0e3ef3-b9f3-4d15-98d2-4b6c04cbe348",
   "metadata": {},
   "outputs": [
    {
     "name": "stderr",
     "output_type": "stream",
     "text": [
      "ERROR 1: PROJ: proj_create_from_database: Open of /opt/tljh/user/envs/coco/share/proj failed\n"
     ]
    }
   ],
   "source": [
    "data_folder = Path(\".\") \n",
    "provincia = gpd.read_file (data_folder / 'provincia_buenos_aires.shp')"
   ]
  },
  {
   "cell_type": "code",
   "execution_count": 42,
   "id": "6e6a78c1-deee-43d3-b118-f2185c814fc7",
   "metadata": {},
   "outputs": [],
   "source": [
    "estaciones = pd.read_csv (data_folder / 'estaciones_smn.csv', sep= \";\")"
   ]
  },
  {
   "cell_type": "code",
   "execution_count": 43,
   "id": "599e155a-0db0-4442-b681-35739f870e82",
   "metadata": {},
   "outputs": [
    {
     "data": {
      "text/html": [
       "<div>\n",
       "<style scoped>\n",
       "    .dataframe tbody tr th:only-of-type {\n",
       "        vertical-align: middle;\n",
       "    }\n",
       "\n",
       "    .dataframe tbody tr th {\n",
       "        vertical-align: top;\n",
       "    }\n",
       "\n",
       "    .dataframe thead th {\n",
       "        text-align: right;\n",
       "    }\n",
       "</style>\n",
       "<table border=\"1\" class=\"dataframe\">\n",
       "  <thead>\n",
       "    <tr style=\"text-align: right;\">\n",
       "      <th></th>\n",
       "      <th>Nombre</th>\n",
       "      <th>lat</th>\n",
       "      <th>long</th>\n",
       "    </tr>\n",
       "  </thead>\n",
       "  <tbody>\n",
       "    <tr>\n",
       "      <th>0</th>\n",
       "      <td>AEROPARQUE AERO</td>\n",
       "      <td>-34.560</td>\n",
       "      <td>-58.41</td>\n",
       "    </tr>\n",
       "    <tr>\n",
       "      <th>1</th>\n",
       "      <td>EL PALOMAR AERO</td>\n",
       "      <td>-34.600</td>\n",
       "      <td>-58.61</td>\n",
       "    </tr>\n",
       "    <tr>\n",
       "      <th>2</th>\n",
       "      <td>MORON AERO</td>\n",
       "      <td>-34.601</td>\n",
       "      <td>-58.63</td>\n",
       "    </tr>\n",
       "    <tr>\n",
       "      <th>3</th>\n",
       "      <td>NUEVE DE JULIO AERO</td>\n",
       "      <td>-35.430</td>\n",
       "      <td>-60.88</td>\n",
       "    </tr>\n",
       "  </tbody>\n",
       "</table>\n",
       "</div>"
      ],
      "text/plain": [
       "                Nombre     lat   long\n",
       "0      AEROPARQUE AERO -34.560 -58.41\n",
       "1      EL PALOMAR AERO -34.600 -58.61\n",
       "2           MORON AERO -34.601 -58.63\n",
       "3  NUEVE DE JULIO AERO -35.430 -60.88"
      ]
     },
     "execution_count": 43,
     "metadata": {},
     "output_type": "execute_result"
    }
   ],
   "source": [
    "estaciones.head()"
   ]
  },
  {
   "cell_type": "code",
   "execution_count": 68,
   "id": "7e0b3117-cf94-43a6-b37f-fb2c5247c0bf",
   "metadata": {},
   "outputs": [],
   "source": [
    "lat = estaciones.lat\n",
    "lon = estaciones.long\n",
    "est = estaciones.Nombre\n",
    "\n",
    "dia = \"2022-10-23\"\n",
    "filtro_dia = dataset_temperatura['FECHA'] == dia\n",
    "filtro_dato =( (filtro_dia & filtro_aeroparque) + (filtro_dia & filtro_moron) + (filtro_dia & filtro_9_julio) +\n",
    "              (filtro_dia & filtro_palomar))\n",
    "tmax = dataset_temperatura[filtro_dato].TMAX"
   ]
  },
  {
   "cell_type": "code",
   "execution_count": 79,
   "id": "72e44fe5-c873-4773-8405-8a46602e0155",
   "metadata": {},
   "outputs": [
    {
     "data": {
      "image/png": "[encoded data removed]",
      "text/plain": [
       "<Figure size 432x288 with 2 Axes>"
      ]
     },
     "metadata": {
      "needs_background": "light"
     },
     "output_type": "display_data"
    }
   ],
   "source": [
    "provincia.plot(column='FNA', linewidth = 4)#, alpha= 0.5)#linecolor= 'b')\n",
    "plt.scatter(lon,lat,\n",
    "          c=tmax,s=200,\n",
    "          cmap='hot', alpha=1)\n",
    "#create colorbar \n",
    "plt.colorbar(label=r'Temp. [°C]')\n",
    "plt.text(-61,-35.8, \"NUEVE DE JULIO\")\n",
    "plt.text(-59,-35, \"EL PALOMAR\")\n",
    "plt.text(-58.8,-34.2, \"MORON\")\n",
    "plt.text(-57.9,-34.5, \"AEROPARQUE\")\n",
    "plt.title(\"Temperaturas maximas para la fecha \" + dia)\n",
    "plt.show()"
   ]
  },
  {
   "cell_type": "code",
   "execution_count": 78,
   "id": "dd8ba096-51d6-42d8-8a2d-0e5096cffa03",
   "metadata": {},
   "outputs": [
    {
     "data": {
      "text/html": [
       "<div>\n",
       "<style scoped>\n",
       "    .dataframe tbody tr th:only-of-type {\n",
       "        vertical-align: middle;\n",
       "    }\n",
       "\n",
       "    .dataframe tbody tr th {\n",
       "        vertical-align: top;\n",
       "    }\n",
       "\n",
       "    .dataframe thead th {\n",
       "        text-align: right;\n",
       "    }\n",
       "</style>\n",
       "<table border=\"1\" class=\"dataframe\">\n",
       "  <thead>\n",
       "    <tr style=\"text-align: right;\">\n",
       "      <th></th>\n",
       "      <th>OBJECTID</th>\n",
       "      <th>Entidad</th>\n",
       "      <th>Objeto</th>\n",
       "      <th>FNA</th>\n",
       "      <th>GNA</th>\n",
       "      <th>NAM</th>\n",
       "      <th>SAG</th>\n",
       "      <th>FDC</th>\n",
       "      <th>IN1</th>\n",
       "      <th>SHAPE_STAr</th>\n",
       "      <th>SHAPE_STLe</th>\n",
       "      <th>geometry</th>\n",
       "    </tr>\n",
       "  </thead>\n",
       "  <tbody>\n",
       "    <tr>\n",
       "      <th>0</th>\n",
       "      <td>427</td>\n",
       "      <td>0</td>\n",
       "      <td>Provincia</td>\n",
       "      <td>Ciudad Autónoma de Buenos Aires</td>\n",
       "      <td>Ciudad Autónoma</td>\n",
       "      <td>Ciudad Autónoma de Buenos Aires</td>\n",
       "      <td>IGN</td>\n",
       "      <td>Geografía</td>\n",
       "      <td>02</td>\n",
       "      <td>0.020242</td>\n",
       "      <td>0.743806</td>\n",
       "      <td>POLYGON Z ((-58.34189 -34.63110 0.00000, -58.3...</td>\n",
       "    </tr>\n",
       "    <tr>\n",
       "      <th>1</th>\n",
       "      <td>432</td>\n",
       "      <td>0</td>\n",
       "      <td>Provincia</td>\n",
       "      <td>Provincia de Córdoba</td>\n",
       "      <td>Provincia</td>\n",
       "      <td>Córdoba</td>\n",
       "      <td>IGN</td>\n",
       "      <td>Geografía</td>\n",
       "      <td>14</td>\n",
       "      <td>15.748328</td>\n",
       "      <td>18.453115</td>\n",
       "      <td>POLYGON Z ((-62.22557 -33.52422 0.00000, -62.2...</td>\n",
       "    </tr>\n",
       "    <tr>\n",
       "      <th>2</th>\n",
       "      <td>433</td>\n",
       "      <td>0</td>\n",
       "      <td>Provincia</td>\n",
       "      <td>Provincia de Santa Fe</td>\n",
       "      <td>Provincia</td>\n",
       "      <td>Santa Fe</td>\n",
       "      <td>IGN</td>\n",
       "      <td>Geografía</td>\n",
       "      <td>82</td>\n",
       "      <td>12.552838</td>\n",
       "      <td>20.852280</td>\n",
       "      <td>POLYGON Z ((-60.42164 -33.52062 0.00000, -60.4...</td>\n",
       "    </tr>\n",
       "    <tr>\n",
       "      <th>3</th>\n",
       "      <td>434</td>\n",
       "      <td>0</td>\n",
       "      <td>Provincia</td>\n",
       "      <td>Provincia de Entre Ríos</td>\n",
       "      <td>Provincia</td>\n",
       "      <td>Entre Ríos</td>\n",
       "      <td>IGN</td>\n",
       "      <td>Geografía</td>\n",
       "      <td>30</td>\n",
       "      <td>7.486487</td>\n",
       "      <td>14.359091</td>\n",
       "      <td>POLYGON Z ((-58.43818 -33.51667 0.00000, -58.4...</td>\n",
       "    </tr>\n",
       "    <tr>\n",
       "      <th>4</th>\n",
       "      <td>447</td>\n",
       "      <td>0</td>\n",
       "      <td>Provincia</td>\n",
       "      <td>Provincia de Buenos Aires</td>\n",
       "      <td>Provincia</td>\n",
       "      <td>Buenos Aires</td>\n",
       "      <td>IGN</td>\n",
       "      <td>Geografía</td>\n",
       "      <td>06</td>\n",
       "      <td>30.805998</td>\n",
       "      <td>34.035576</td>\n",
       "      <td>POLYGON Z ((-59.84848 -33.51948 0.00000, -59.8...</td>\n",
       "    </tr>\n",
       "  </tbody>\n",
       "</table>\n",
       "</div>"
      ],
      "text/plain": [
       "   OBJECTID  Entidad     Objeto                              FNA  \\\n",
       "0       427        0  Provincia  Ciudad Autónoma de Buenos Aires   \n",
       "1       432        0  Provincia             Provincia de Córdoba   \n",
       "2       433        0  Provincia            Provincia de Santa Fe   \n",
       "3       434        0  Provincia          Provincia de Entre Ríos   \n",
       "4       447        0  Provincia        Provincia de Buenos Aires   \n",
       "\n",
       "               GNA                              NAM  SAG        FDC IN1  \\\n",
       "0  Ciudad Autónoma  Ciudad Autónoma de Buenos Aires  IGN  Geografía  02   \n",
       "1        Provincia                          Córdoba  IGN  Geografía  14   \n",
       "2        Provincia                         Santa Fe  IGN  Geografía  82   \n",
       "3        Provincia                       Entre Ríos  IGN  Geografía  30   \n",
       "4        Provincia                     Buenos Aires  IGN  Geografía  06   \n",
       "\n",
       "   SHAPE_STAr  SHAPE_STLe                                           geometry  \n",
       "0    0.020242    0.743806  POLYGON Z ((-58.34189 -34.63110 0.00000, -58.3...  \n",
       "1   15.748328   18.453115  POLYGON Z ((-62.22557 -33.52422 0.00000, -62.2...  \n",
       "2   12.552838   20.852280  POLYGON Z ((-60.42164 -33.52062 0.00000, -60.4...  \n",
       "3    7.486487   14.359091  POLYGON Z ((-58.43818 -33.51667 0.00000, -58.4...  \n",
       "4   30.805998   34.035576  POLYGON Z ((-59.84848 -33.51948 0.00000, -59.8...  "
      ]
     },
     "execution_count": 78,
     "metadata": {},
     "output_type": "execute_result"
    }
   ],
   "source": []
  },
  {
   "cell_type": "code",
   "execution_count": null,
   "id": "6ce72441-fb8c-47ce-ad09-da38eb1fb60b",
   "metadata": {},
   "outputs": [],
   "source": []
  }
 ],
 "metadata": {
  "kernelspec": {
   "display_name": "CoCo",
   "language": "python",
   "name": "coco"
  },
  "language_info": {
   "codemirror_mode": {
    "name": "ipython",
    "version": 3
   },
   "file_extension": ".py",
   "mimetype": "text/x-python",
   "name": "python",
   "nbconvert_exporter": "python",
   "pygments_lexer": "ipython3",
   "version": "3.10.4"
  }
 },
 "nbformat": 4,
 "nbformat_minor": 5
}
